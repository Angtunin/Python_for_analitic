{
 "cells": [
  {
   "attachments": {},
   "cell_type": "markdown",
   "metadata": {},
   "source": [
    "## Task 1\n",
    "На складе лежат разные фрукты в разном количестве.\n",
    "Нужно написать функцию, которая на вход принимает любое количество названий фруктов и их количество, а возвращает общее количество фруктов на складе"
   ]
  },
  {
   "cell_type": "code",
   "execution_count": 1,
   "metadata": {},
   "outputs": [
    {
     "name": "stdout",
     "output_type": "stream",
     "text": [
      "total_fruits(banana=5, mango=7, apple=8)\n",
      "20\n"
     ]
    }
   ],
   "source": [
    "def count_fruits(**kwargs):\n",
    "    total = 0\n",
    "    for count in kwargs.values():\n",
    "        total += count\n",
    "    return f\"total_fruits({', '.join([f'{k}={v}' for k, v in kwargs.items()])})\\n{total}\"\n",
    "\n",
    "total_fruits = count_fruits(banana=5, mango=7, apple=8)\n",
    "print(total_fruits)\n"
   ]
  },
  {
   "attachments": {},
   "cell_type": "markdown",
   "metadata": {},
   "source": [
    "## Task 2\n",
    "Дан список с затратами на рекламу. Но в данных есть ошибки, некоторые затраты имеют отрицательную величину. <br>\n",
    "Удалите такие значения из списка и посчитайте суммарные затраты\n",
    "\n",
    "[100, 125, -90, 345, 655, -1, 0, 200]\n",
    "\n",
    "Используйте list comprehensions"
   ]
  },
  {
   "cell_type": "code",
   "execution_count": 4,
   "metadata": {},
   "outputs": [
    {
     "name": "stdout",
     "output_type": "stream",
     "text": [
      "[100, 125, 0, 345, 655, 0, 0, 200]\n",
      "1425\n"
     ]
    }
   ],
   "source": [
    "orig_prices = [100, 125, -90, 345, 655, -1, 0, 200]\n",
    "def total_costs(list_p: list) -> list:\n",
    "    res_prices = [i if i > 0 else 0 for i in list_p] \n",
    "    return res_prices\n",
    "\n",
    "print(total_costs(orig_prices))\n",
    "\n",
    "def sum_total_costs(list_r: list):\n",
    "    sum_prices = 0\n",
    "    for i in list_r:\n",
    "        sum_prices += i\n",
    "    return sum_prices\n",
    "\n",
    "print(sum_total_costs(total_costs(orig_prices)))\n"
   ]
  },
  {
   "attachments": {},
   "cell_type": "markdown",
   "metadata": {},
   "source": [
    "## Task 3\n",
    "Даны два списка.<br>\n",
    "Дата покупки<br>\n",
    "['2021-09-14', '2021-12-15', '2021-09-08', '2021-12-05', '2021-10-09', '2021-09-30', '2021-12-22', '2021-11-29', '2021-12-24', '2021-11-26', '2021-10-27', '2021-12-18', '2021-11-09', '2021-11-23', '2021-09-27', '2021-10-02', '2021-12-27', '2021-09-20', '2021-12-13', '2021-11-01', '2021-11-09', '2021-12-06', '2021-12-08', '2021-10-09', '2021-10-31', '2021-09-30', '2021-11-09', '2021-12-13', '2021-10-26', '2021-12-09']<br>\n",
    "Суммы покупок по датам<br>\n",
    "[1270, 8413, 9028, 3703, 5739, 4095, 295, 4944, 5723, 3701, 4471, 651, 7037, 4274, 6275, 4988, 6930, 2971, 6592, 2004, 2822, 519, 3406, 2732, 5015, 2008, 316, 6333, 5700, 2887]"
   ]
  },
  {
   "attachments": {},
   "cell_type": "markdown",
   "metadata": {},
   "source": [
    "### 3.1 Найдите, какая выручка у компании в ноябре\n",
    "\n",
    "Используйте list comprehensions\n"
   ]
  },
  {
   "cell_type": "code",
   "execution_count": 2,
   "metadata": {},
   "outputs": [
    {
     "name": "stdout",
     "output_type": "stream",
     "text": [
      "purchase_date = 30\n",
      "purchase_amounts = 30\n"
     ]
    }
   ],
   "source": [
    "purchase_date = ['2021-09-14', '2021-12-15', '2021-09-08', '2021-12-05', '2021-10-09', '2021-09-30', '2021-12-22', '2021-11-29', '2021-12-24', '2021-11-26', '2021-10-27', '2021-12-18', '2021-11-09', '2021-11-23', '2021-09-27', '2021-10-02', '2021-12-27', '2021-09-20', '2021-12-13', '2021-11-01', '2021-11-09', '2021-12-06', '2021-12-08', '2021-10-09', '2021-10-31', '2021-09-30', '2021-11-09', '2021-12-13', '2021-10-26', '2021-12-09']\n",
    "purchase_amounts = [1270, 8413, 9028, 3703, 5739, 4095, 295, 4944, 5723, 3701, 4471, 651, 7037, 4274, 6275, 4988, 6930, 2971, 6592, 2004, 2822, 519, 3406, 2732, 5015, 2008, 316, 6333, 5700, 2887]\n",
    "print(f'purchase_date = {len(purchase_date)}')\n",
    "print(f'purchase_amounts = {len(purchase_amounts)}')"
   ]
  },
  {
   "cell_type": "code",
   "execution_count": 12,
   "metadata": {},
   "outputs": [
    {
     "name": "stdout",
     "output_type": "stream",
     "text": [
      "{'2021-09-14': 1270, '2021-12-15': 8413, '2021-09-08': 9028, '2021-12-05': 3703, '2021-10-09': 2732, '2021-09-30': 2008, '2021-12-22': 295, '2021-11-29': 4944, '2021-12-24': 5723, '2021-11-26': 3701, '2021-10-27': 4471, '2021-12-18': 651, '2021-11-09': 316, '2021-11-23': 4274, '2021-09-27': 6275, '2021-10-02': 4988, '2021-12-27': 6930, '2021-09-20': 2971, '2021-12-13': 6333, '2021-11-01': 2004, '2021-12-06': 519, '2021-12-08': 3406, '2021-10-31': 5015, '2021-10-26': 5700, '2021-12-09': 2887}\n"
     ]
    }
   ],
   "source": [
    "def merge_list_in_dict(keys: list, values: list) -> dict:\n",
    "    if len(keys) != len(values):\n",
    "        return None\n",
    "    return dict(zip(keys, values))\n",
    "purchase_amounts_by_day = merge_list_in_dict(purchase_date, purchase_amounts)\n",
    "print(purchase_amounts_by_day)"
   ]
  },
  {
   "cell_type": "code",
   "execution_count": 25,
   "metadata": {},
   "outputs": [
    {
     "name": "stdout",
     "output_type": "stream",
     "text": [
      "15239\n"
     ]
    }
   ],
   "source": [
    "revenue_in_november = 0\n",
    "for k, v in purchase_amounts_by_day.items():\n",
    "    # print(f'{k[5:7]} = {v}')\n",
    "    if int(k[5:7]) == 11:\n",
    "        revenue_in_november += v\n",
    "\n",
    "print(revenue_in_november)"
   ]
  },
  {
   "cell_type": "code",
   "execution_count": 31,
   "metadata": {},
   "outputs": [
    {
     "name": "stdout",
     "output_type": "stream",
     "text": [
      "[4944, 3701, 316, 4274, 2004]\n",
      "15239\n"
     ]
    }
   ],
   "source": [
    "def monthly_revenue(dict1: dict, month: int) -> list:\n",
    "    return [v for k, v in purchase_amounts_by_day.items() if int(k[5:7]) == month]\n",
    "\n",
    "revenue_in_november_list = monthly_revenue(purchase_amounts_by_day, 11)\n",
    "print(revenue_in_november_list)\n",
    "\n",
    "print(sum(revenue_in_november_list))"
   ]
  },
  {
   "attachments": {},
   "cell_type": "markdown",
   "metadata": {},
   "source": [
    "### 3.2 Найдите выручку компании в зависимости от месяца\n",
    "\n",
    "Для этого напишите функцию, которая на вход принимает список с датами и список с выручкой, а на выходе словарь, где ключи - это месяцы, а значения - это выручка.\n",
    "Используйте аннотирование типов."
   ]
  },
  {
   "cell_type": "code",
   "execution_count": 23,
   "metadata": {},
   "outputs": [
    {
     "name": "stdout",
     "output_type": "stream",
     "text": [
      "выручка за месяц = 11 -> 15239\n"
     ]
    }
   ],
   "source": [
    "def merge_list_in_dict(keys: list, values: list) -> dict:\n",
    "    if len(keys) != len(values):\n",
    "        return None\n",
    "    return dict(zip(keys, values))\n",
    "purchase_amounts_by_day = merge_list_in_dict(purchase_date, purchase_amounts)\n",
    "\n",
    "def monthly_revenue(dict1: dict, month: int) -> list:\n",
    "    revenue_in_month_list = [v for k, v in dict1.items() if int(k[5:7]) == month]\n",
    "    monthly_revenue_s = int(sum(revenue_in_month_list))\n",
    "    return monthly_revenue_s\n",
    "    \n",
    "month = 11\n",
    "print(f'выручка за месяц = {month} -> {monthly_revenue(purchase_amounts_by_day, month=month)}')"
   ]
  }
 ],
 "metadata": {
  "kernelspec": {
   "display_name": "Python 3",
   "language": "python",
   "name": "python3"
  },
  "language_info": {
   "codemirror_mode": {
    "name": "ipython",
    "version": 3
   },
   "file_extension": ".py",
   "mimetype": "text/x-python",
   "name": "python",
   "nbconvert_exporter": "python",
   "pygments_lexer": "ipython3",
   "version": "3.9.2"
  },
  "orig_nbformat": 4
 },
 "nbformat": 4,
 "nbformat_minor": 2
}
